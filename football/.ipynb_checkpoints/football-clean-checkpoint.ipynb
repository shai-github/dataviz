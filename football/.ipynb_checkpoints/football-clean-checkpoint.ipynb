{
 "cells": [
  {
   "cell_type": "code",
   "execution_count": 1,
   "metadata": {},
   "outputs": [],
   "source": [
    "import pandas as pd\n",
    "import numpy as np"
   ]
  },
  {
   "cell_type": "code",
   "execution_count": 2,
   "metadata": {},
   "outputs": [
    {
     "name": "stdout",
     "output_type": "stream",
     "text": [
      "(3571, 9)\n",
      "(340, 6)\n"
     ]
    }
   ],
   "source": [
    "cs_df = pd.read_csv(\"cumulative-stats.tsv\", sep='\\t')\n",
    "pd_df = pd.read_json(\"player-lookup.json\", orient='index')\n",
    "print(cs_df.shape)\n",
    "print(pd_df.shape)"
   ]
  },
  {
   "cell_type": "code",
   "execution_count": 3,
   "metadata": {},
   "outputs": [
    {
     "name": "stdout",
     "output_type": "stream",
     "text": [
      "(3571, 14)\n"
     ]
    }
   ],
   "source": [
    "full_df = pd_df.merge(cs_df, on='player_id', how='inner')\n",
    "print(full_df.shape)"
   ]
  },
  {
   "cell_type": "code",
   "execution_count": 4,
   "metadata": {},
   "outputs": [],
   "source": [
    "full_df['age_year'] = full_df['age_start'] + (full_df['year'] - full_df['year_start'])"
   ]
  },
  {
   "cell_type": "code",
   "execution_count": 5,
   "metadata": {},
   "outputs": [],
   "source": [
    "max_year = full_df.groupby(['player_id'])['year_end'].max()\n",
    "max_wins = full_df.groupby(['player_id'])['playoff_wins'].max()\n",
    "max_age = full_df.groupby(['player_id'])['age_year'].max()"
   ]
  },
  {
   "cell_type": "code",
   "execution_count": 6,
   "metadata": {},
   "outputs": [],
   "source": [
    "full_df = full_df.merge(max_year, on='player_id', how='inner')\n",
    "full_df = full_df.merge(max_wins, on='player_id', how='inner')\n",
    "full_df = full_df.merge(max_age, on='player_id', how='inner')"
   ]
  },
  {
   "cell_type": "code",
   "execution_count": 7,
   "metadata": {},
   "outputs": [
    {
     "data": {
      "text/html": [
       "<div>\n",
       "<style scoped>\n",
       "    .dataframe tbody tr th:only-of-type {\n",
       "        vertical-align: middle;\n",
       "    }\n",
       "\n",
       "    .dataframe tbody tr th {\n",
       "        vertical-align: top;\n",
       "    }\n",
       "\n",
       "    .dataframe thead th {\n",
       "        text-align: right;\n",
       "    }\n",
       "</style>\n",
       "<table border=\"1\" class=\"dataframe\">\n",
       "  <thead>\n",
       "    <tr style=\"text-align: right;\">\n",
       "      <th></th>\n",
       "      <th>player_id</th>\n",
       "      <th>player_name</th>\n",
       "      <th>age_start</th>\n",
       "      <th>year_start</th>\n",
       "      <th>year_end</th>\n",
       "      <th>last_name</th>\n",
       "      <th>year</th>\n",
       "      <th>yards</th>\n",
       "      <th>tds</th>\n",
       "      <th>att</th>\n",
       "      <th>comp</th>\n",
       "      <th>playoff_games</th>\n",
       "      <th>playoff_wins</th>\n",
       "      <th>pb_games</th>\n",
       "      <th>age_year</th>\n",
       "      <th>max_year</th>\n",
       "      <th>max_wins</th>\n",
       "      <th>max_age</th>\n",
       "    </tr>\n",
       "  </thead>\n",
       "  <tbody>\n",
       "    <tr>\n",
       "      <th>0</th>\n",
       "      <td>AikmTr00</td>\n",
       "      <td>Troy Aikman</td>\n",
       "      <td>23</td>\n",
       "      <td>1989</td>\n",
       "      <td>2000</td>\n",
       "      <td>Aikman</td>\n",
       "      <td>1989</td>\n",
       "      <td>1749</td>\n",
       "      <td>9</td>\n",
       "      <td>293</td>\n",
       "      <td>155</td>\n",
       "      <td>0</td>\n",
       "      <td>0</td>\n",
       "      <td>0</td>\n",
       "      <td>23</td>\n",
       "      <td>2000</td>\n",
       "      <td>11</td>\n",
       "      <td>34</td>\n",
       "    </tr>\n",
       "    <tr>\n",
       "      <th>1</th>\n",
       "      <td>AikmTr00</td>\n",
       "      <td>Troy Aikman</td>\n",
       "      <td>23</td>\n",
       "      <td>1989</td>\n",
       "      <td>2000</td>\n",
       "      <td>Aikman</td>\n",
       "      <td>1990</td>\n",
       "      <td>4328</td>\n",
       "      <td>20</td>\n",
       "      <td>692</td>\n",
       "      <td>381</td>\n",
       "      <td>0</td>\n",
       "      <td>0</td>\n",
       "      <td>0</td>\n",
       "      <td>24</td>\n",
       "      <td>2000</td>\n",
       "      <td>11</td>\n",
       "      <td>34</td>\n",
       "    </tr>\n",
       "    <tr>\n",
       "      <th>2</th>\n",
       "      <td>AikmTr00</td>\n",
       "      <td>Troy Aikman</td>\n",
       "      <td>23</td>\n",
       "      <td>1989</td>\n",
       "      <td>2000</td>\n",
       "      <td>Aikman</td>\n",
       "      <td>1991</td>\n",
       "      <td>7082</td>\n",
       "      <td>31</td>\n",
       "      <td>1055</td>\n",
       "      <td>618</td>\n",
       "      <td>0</td>\n",
       "      <td>0</td>\n",
       "      <td>1</td>\n",
       "      <td>25</td>\n",
       "      <td>2000</td>\n",
       "      <td>11</td>\n",
       "      <td>34</td>\n",
       "    </tr>\n",
       "    <tr>\n",
       "      <th>3</th>\n",
       "      <td>AikmTr00</td>\n",
       "      <td>Troy Aikman</td>\n",
       "      <td>23</td>\n",
       "      <td>1989</td>\n",
       "      <td>2000</td>\n",
       "      <td>Aikman</td>\n",
       "      <td>1992</td>\n",
       "      <td>10527</td>\n",
       "      <td>54</td>\n",
       "      <td>1528</td>\n",
       "      <td>920</td>\n",
       "      <td>3</td>\n",
       "      <td>3</td>\n",
       "      <td>2</td>\n",
       "      <td>26</td>\n",
       "      <td>2000</td>\n",
       "      <td>11</td>\n",
       "      <td>34</td>\n",
       "    </tr>\n",
       "    <tr>\n",
       "      <th>4</th>\n",
       "      <td>AikmTr00</td>\n",
       "      <td>Troy Aikman</td>\n",
       "      <td>23</td>\n",
       "      <td>1989</td>\n",
       "      <td>2000</td>\n",
       "      <td>Aikman</td>\n",
       "      <td>1993</td>\n",
       "      <td>13627</td>\n",
       "      <td>69</td>\n",
       "      <td>1920</td>\n",
       "      <td>1191</td>\n",
       "      <td>6</td>\n",
       "      <td>6</td>\n",
       "      <td>3</td>\n",
       "      <td>27</td>\n",
       "      <td>2000</td>\n",
       "      <td>11</td>\n",
       "      <td>34</td>\n",
       "    </tr>\n",
       "  </tbody>\n",
       "</table>\n",
       "</div>"
      ],
      "text/plain": [
       "  player_id  player_name  age_start  year_start  year_end last_name  year  \\\n",
       "0  AikmTr00  Troy Aikman         23        1989      2000    Aikman  1989   \n",
       "1  AikmTr00  Troy Aikman         23        1989      2000    Aikman  1990   \n",
       "2  AikmTr00  Troy Aikman         23        1989      2000    Aikman  1991   \n",
       "3  AikmTr00  Troy Aikman         23        1989      2000    Aikman  1992   \n",
       "4  AikmTr00  Troy Aikman         23        1989      2000    Aikman  1993   \n",
       "\n",
       "   yards  tds   att  comp  playoff_games  playoff_wins  pb_games  age_year  \\\n",
       "0   1749    9   293   155              0             0         0        23   \n",
       "1   4328   20   692   381              0             0         0        24   \n",
       "2   7082   31  1055   618              0             0         1        25   \n",
       "3  10527   54  1528   920              3             3         2        26   \n",
       "4  13627   69  1920  1191              6             6         3        27   \n",
       "\n",
       "   max_year  max_wins  max_age  \n",
       "0      2000        11       34  \n",
       "1      2000        11       34  \n",
       "2      2000        11       34  \n",
       "3      2000        11       34  \n",
       "4      2000        11       34  "
      ]
     },
     "execution_count": 7,
     "metadata": {},
     "output_type": "execute_result"
    }
   ],
   "source": [
    "full_df.rename(columns = {\"playoff_wins_x\": \"playoff_wins\",\n",
    "                          \"year_end_x\": \"year_end\",\n",
    "                          \"year_end_y\": \"max_year\", \n",
    "                          \"playoff_wins_y\": \"max_wins\",\n",
    "                          \"age_year_x\": \"age_year\",\n",
    "                          \"age_year_y\": \"max_age\"}, inplace = True)\n",
    "\n",
    "full_df = full_df[full_df['max_wins'] > 0]\n",
    "full_df.head()"
   ]
  },
  {
   "cell_type": "code",
   "execution_count": 8,
   "metadata": {},
   "outputs": [
    {
     "data": {
      "text/plain": [
       "(1723, 18)"
      ]
     },
     "execution_count": 8,
     "metadata": {},
     "output_type": "execute_result"
    }
   ],
   "source": [
    "full_df.shape"
   ]
  },
  {
   "cell_type": "code",
   "execution_count": 9,
   "metadata": {},
   "outputs": [],
   "source": [
    "full_df.to_csv(r'full-stats.csv', index = True)"
   ]
  },
  {
   "cell_type": "code",
   "execution_count": null,
   "metadata": {},
   "outputs": [],
   "source": []
  }
 ],
 "metadata": {
  "kernelspec": {
   "display_name": "Python 3",
   "language": "python",
   "name": "python3"
  },
  "language_info": {
   "codemirror_mode": {
    "name": "ipython",
    "version": 3
   },
   "file_extension": ".py",
   "mimetype": "text/x-python",
   "name": "python",
   "nbconvert_exporter": "python",
   "pygments_lexer": "ipython3",
   "version": "3.8.5"
  }
 },
 "nbformat": 4,
 "nbformat_minor": 4
}
